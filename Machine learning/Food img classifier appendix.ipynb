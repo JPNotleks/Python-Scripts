{
 "cells": [
  {
   "cell_type": "code",
   "execution_count": null,
   "metadata": {},
   "outputs": [],
   "source": []
  },
  {
   "cell_type": "code",
   "execution_count": 99,
   "metadata": {
    "scrolled": true
   },
   "outputs": [
    {
     "name": "stdout",
     "output_type": "stream",
     "text": [
      "[[2461 3450 2678]\n",
      " [2299 2499 4987]\n",
      " [4663 1056 3029]\n",
      " [4532 1186 1297]\n",
      " [3454 3809 2204]\n",
      " [2851 3047  524]\n",
      " [1168  262 2663]\n",
      " [2134 4969 1153]\n",
      " [2741 2851 1518]\n",
      " [4668 2527 3481]]\n",
      "yeet\n",
      "[1. 0. 1. 1. 0. 1. 1. 0. 0. 0.]\n",
      "58.43000000000001\n"
     ]
    },
    {
     "data": {
      "image/png": "[encoded data removed]",
      "text/plain": [
       "<Figure size 432x288 with 1 Axes>"
      ]
     },
     "metadata": {
      "needs_background": "light"
     },
     "output_type": "display_data"
    }
   ],
   "source": [
    "from pandas import read_csv\n",
    "import numpy as np\n",
    "import os\n",
    "import PIL\n",
    "from PIL import Image\n",
    "import tensorflow as tf\n",
    "from tensorflow import keras\n",
    "import matplotlib.pyplot as plt\n",
    "\n",
    "train=np.loadtxt(\"train.txt\")\n",
    "train=train.astype(int)\n",
    "\n",
    "t=3\n",
    "#sizes=np.zeros((200,3),dtype=int)\n",
    "#y=np.zeros((10000,3,16,16,16),dtype=int)   #(row of training set, image, r, g, b)\n",
    "#for i in range(10000):\n",
    "#    for p in range(3):\n",
    "#        x=Image.open(\"C:/Users/John/Documents/GitHub/pythonScripts/food/\"+str(train[i,p]).zfill(5)+\".jpg\")\n",
    "#        w,h=x.size\n",
    "#        x=np.array(x)\n",
    "#        x=np.floor_divide(x,17)\n",
    "#        for j in range(int(1*h/t),int(2*h/t)):\n",
    "#            for k in range(int(1*w/t),int(2*w/t)):\n",
    "#                y[i,p,x[j,k,0],x[j,k,1],x[j,k,2]]+=1\n",
    "#        #sizes[i,p]=w*h\n",
    "#    print(i)\n",
    "#print(y)\n",
    "#np.save(\"first10000centre\",y)\n",
    "#np.save(\"first200sizes\",sizes)\n",
    "\n",
    "#z1=y[:,0,:,:,:]-y[:,]\n",
    "\n",
    "k=0\n",
    "y=np.load(\"first10000centre.npy\")\n",
    "sizes=np.load(\"first200sizes.npy\")\n",
    "z1=y[k,0]\n",
    "col1=np.sum(z1,axis=2)\n",
    "col1=np.sum(col1,axis=1)\n",
    "z2=y[k,1]\n",
    "col2=np.sum(z2,axis=2)\n",
    "col2=np.sum(col2,axis=1)\n",
    "z3=y[k,2]\n",
    "col3=np.sum(z3,axis=2)\n",
    "col3=np.sum(col3,axis=1)\n",
    "plt.plot(col1,'red')\n",
    "plt.plot(col2,'blue')\n",
    "plt.plot(col3,'green')\n",
    "\n",
    "y=np.concatenate((y,y),axis=0)\n",
    "\n",
    "print(train[0:10])\n",
    "true=np.zeros(2000)\n",
    "\n",
    "#for i in range(1000):\n",
    "#    np.transpose(y[1000+i,:,:,:,:],(0,1,3,2))\n",
    "#    true[1000+i]=1\n",
    "\n",
    "print('yeet')\n",
    "\n",
    "pred=np.zeros(10000)\n",
    "po=1\n",
    "\n",
    "for i in range(10000):\n",
    "    z1=np.sum(np.abs(y[i,0]-y[i,1]))\n",
    "    z2=np.sum(np.abs(y[i,0]-y[i,2]))\n",
    "    if z1>z2:\n",
    "        pred[i]=1\n",
    "\n",
    "print(pred[0:10])\n",
    "\n",
    "print(100*(1-np.sum(pred)/np.size(pred)))\n",
    "########################################\n",
    "#inp=tf.keras.layers.Input(shape=(3,16,16,16))\n",
    "\n",
    "#n1=tf.keras.layers.Dense(1,activation='relu')(inp[1:2,16,16,16])\n",
    "#n2=Dense(1,activation='relu')(inp[1:2,16,16,16])\n",
    "#out=tf.keras.layers.Dense(1,activation='sigmoid')(n1)\n",
    "\n",
    "#model=tf.keras.layers.Model(inp.out)\n",
    "\n",
    "#model = tf.keras.models.Sequential([\n",
    "#  tf.keras.layers.Flatten(input_shape=(3,16,16,16)),\n",
    "#  tf.keras.layers.Dense(16, activation='relu'),\n",
    "#  tf.keras.layers.Dropout(0.2),\n",
    "#  tf.keras.layers.Dense(1,activation='sigmoid')\n",
    "#])\n",
    "\n",
    "#model.compile(loss='binary_crossentropy', optimizer='adam', metrics=['accuracy'])\n",
    "\n",
    "#predictions = model(list(y)).numpy()\n",
    "#model.fit(y,true)\n",
    "#print(predictions)"
   ]
  },
  {
   "cell_type": "code",
   "execution_count": null,
   "metadata": {},
   "outputs": [],
   "source": []
  }
 ],
 "metadata": {
  "kernelspec": {
   "display_name": "Python 3",
   "language": "python",
   "name": "python3"
  },
  "language_info": {
   "codemirror_mode": {
    "name": "ipython",
    "version": 3
   },
   "file_extension": ".py",
   "mimetype": "text/x-python",
   "name": "python",
   "nbconvert_exporter": "python",
   "pygments_lexer": "ipython3",
   "version": "3.8.5"
  }
 },
 "nbformat": 4,
 "nbformat_minor": 4
}
