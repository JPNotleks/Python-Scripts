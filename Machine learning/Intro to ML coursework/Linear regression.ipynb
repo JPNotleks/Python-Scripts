{
 "cells": [
  {
   "cell_type": "code",
   "execution_count": 1,
   "metadata": {},
   "outputs": [],
   "source": [
    "#The quintessential ML technique, linear regression. It is unfortunately almost never stated that linear regression\n",
    "#is most elegantly expressed using the pseduo-inverse, an interpretation which not only makes the result completely trivial,\n",
    "#but also results in the fastest (one-line!) implementation by an SVD inversion.\n",
    "\n",
    "import csv\n",
    "import numpy as np\n",
    "\n",
    "A=np.zeros((0,12),dtype='float64')\n",
    "\n",
    "with open('train.csv','r') as csvfile:\n",
    "    reader=csv.reader(csvfile)\n",
    "    next(reader)\n",
    "    for row in reader:\n",
    "        A=np.append(A,np.asarray(row,dtype='float64')[np.newaxis,:],axis=0)\n",
    "\n",
    "y=A[:,1]    #training objective, vector\n",
    "A=A[:,2:]   #training data, matrix\n",
    "\n",
    "b=np.matmul(np.linalg.pinv(A),y)   #this is the main operation and returns the weights\n",
    "\n",
    "#from sklearn.metrics import mean_squared_error\n",
    "#RMSE = mean_squared_error(y, y_pred)**0.5\n",
    "\n",
    "B=np.empty((0,11),dtype='float64')\n",
    "\n",
    "with open('test.csv','r') as csvfile:\n",
    "    reader=csv.reader(csvfile)\n",
    "    next(reader)\n",
    "    for row in reader:\n",
    "        B=np.append(B,np.asarray(row,dtype='float64')[np.newaxis,:],axis=0)\n",
    "\n",
    "iden=['Id','y']\n",
    "labels=B[:,0]\n",
    "B=B[:,1:]\n",
    "\n",
    "y_pred=np.matmul(B,b)\n",
    "#print('Predicted y:')\n",
    "#print(y_pred)\n",
    "#print('True y')\n",
    "#print(np.matmul(B,1/10*np.ones(10)))\n",
    "\n",
    "y_pred=np.append(labels[:,np.newaxis],y_pred[:,np.newaxis],axis=1)\n",
    "\n",
    "with open('prediction.csv','w',newline='') as csvfile:\n",
    "    writer=csv.writer(csvfile)\n",
    "    writer.writerow(iden)\n",
    "    for i in range(np.shape(y_pred)[0]):\n",
    "        writer.writerow(y_pred[i])"
   ]
  },
  {
   "cell_type": "code",
   "execution_count": null,
   "metadata": {},
   "outputs": [],
   "source": []
  },
  {
   "cell_type": "code",
   "execution_count": null,
   "metadata": {},
   "outputs": [],
   "source": []
  }
 ],
 "metadata": {
  "kernelspec": {
   "display_name": "Python 3",
   "language": "python",
   "name": "python3"
  },
  "language_info": {
   "codemirror_mode": {
    "name": "ipython",
    "version": 3
   },
   "file_extension": ".py",
   "mimetype": "text/x-python",
   "name": "python",
   "nbconvert_exporter": "python",
   "pygments_lexer": "ipython3",
   "version": "3.8.5"
  }
 },
 "nbformat": 4,
 "nbformat_minor": 4
}
