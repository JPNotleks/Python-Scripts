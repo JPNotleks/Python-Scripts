{
  "cells": [
    {
      "cell_type": "code",
      "execution_count": null,
      "metadata": {
        "colab": {
          "background_save": true,
          "base_uri": "https://localhost:8080/"
        },
        "id": "7kYzIoEBLdOe",
        "outputId": "7a2726fb-e9cf-4ed6-c607-ae71170bb1cd"
      },
      "outputs": [
        {
          "name": "stdout",
          "output_type": "stream",
          "text": [
            "Converged at iteration 77\n"
          ]
        }
      ],
      "source": [
        "#Calculates and plots the D4 4 tap wavelet given its 4-element filter banks using the cascade algorithm. This is easily the highest resolution plot of a wavelet available,\n",
        "#since the calculation of the wavelet itself is circumvented in the wavelet transform and is hence of no practical interest. However, low smoothness of wavelets\n",
        "#is a significant issue as truncation leads to artefacts in compressed images. The D4 wavelet only has a Hoelder coefficient of 0.55 which is evident in the\n",
        "#parabolic kinks during the zooming, and in fact, there is no wavelet with support width 3 that has a higher regularity than 0.6\n",
        "#(Ingrid Daubechies' Ten Lectures on Wavelets, Chapter 7)\n",
        "\n",
        "import numpy as np\n",
        "import matplotlib.pyplot as plt\n",
        "\n",
        "from google.colab import drive\n",
        "from google.colab import files\n",
        "import os\n",
        "\n",
        "#!pip install -U -q PyDrive\n",
        "from pydrive.auth import GoogleAuth\n",
        "from pydrive.drive import GoogleDrive\n",
        "from google.colab import auth\n",
        "from oauth2client.client import GoogleCredentials\n",
        "auth.authenticate_user()\n",
        "gauth = GoogleAuth()\n",
        "gauth.credentials = GoogleCredentials.get_application_default()\n",
        "drive = GoogleDrive(gauth)\n",
        "\n",
        "#drive.mount(\"/content/drive\")\n",
        "\n",
        "n=2**25 #number of points per unit interval\n",
        "p=665600 #offset from Hoelder point\n",
        "maxiter=100 #maximum iterations for the cascade algorithm (73 is enough)\n",
        "x=np.linspace(-3,6,9*n+1)\n",
        "y=x*0-1\n",
        "y[:3*n+1]=0\n",
        "y[-n*3-1:]=0\n",
        "\n",
        "\n",
        "h=np.array([0.6830127,1.1830127,0.3169873,-0.1830127])   #filter for the scaling function\n",
        "g=np.array([-0.1830127, -0.3169873, 1.1830127, -0.6830127])   #filter for the mother wavelet\n",
        "\n",
        "for i in range(maxiter):\n",
        "  ys=y*0\n",
        "  for k in range(4):\n",
        "    ys[3*n:6*n]+=h[k]*y[3*n-k*n:9*n-k*n:2]\n",
        "  if(np.max(ys-y)==0):\n",
        "    print(\"Converged at iteration \"+str(i))\n",
        "    break\n",
        "  y=ys\n",
        "\n",
        "phi=0*y\n",
        "for k in range(4):\n",
        "    phi[3*n:6*n]+=g[k]*y[3*n-k*n:9*n-k*n:2]\n",
        "\n",
        "phi=phi[3*n:6*n]/2\n",
        "x=x[3*n:6*n]\n",
        "\n",
        "c=len(x)/4\n",
        "\n",
        "for i in range(40,40):\n",
        "  plt.figure(figsize=(15,15),dpi=1080/15)\n",
        "  l=int(i*len(x)/(2*40))\n",
        "  r=len(x)\n",
        "  plt.plot(x[l:r],phi[l:r])\n",
        "  #plt.gca().set_aspect('equal')\n",
        "  plt.grid('minor',alpha=0.3)\n",
        "  plt.ylim((phi[int(3/4*len(phi)+p)]-1.9*(40-i)/40-(x[-p]-x[len(x)//2-p])/2*i/40,phi[int(3/4*len(phi)+p)]+1.52*(40-i)/40+(x[-p]-x[len(x)//2-p])/2*i/40))\n",
        "  plt.savefig(\"db\"+str(int(i))+\".png\",dpi=1080/15)\n",
        "  ###files.download(\"sgd\"+str(i/50)+\".png\")\n",
        "  uploaded = drive.CreateFile({'title': 'db'+str(int(i))+'.png'})\n",
        "  uploaded.SetContentFile('db'+str(int(i))+'.png')\n",
        "  uploaded.Upload()\n",
        "  plt.close()\n",
        "  print(i)\n",
        "\n",
        "for i in range(300,500):\n",
        "  plt.figure(figsize=(15,15),dpi=1080/15)\n",
        "  l=int(3/4*len(x)+p-c*np.power(0.975,i))\n",
        "  r=int(3/4*len(x)+p+c*np.power(0.975,i))\n",
        "  plt.plot(x[l:r],phi[l:r])\n",
        "  #plt.gca().set_aspect('equal')\n",
        "  plt.grid('minor',alpha=0.3)\n",
        "  plt.ylim((phi[int(3/4*len(phi)+p)]-(x[r-1-p]-x[l-p])/2,phi[int(3/4*len(phi)+p)]+(x[r-1-p]-x[l-p])/2))\n",
        "  plt.savefig(\"db\"+str(int(i+40))+\".png\",dpi=1080/15)\n",
        "  ###files.download(\"sgd\"+str(i/50)+\".png\")\n",
        "  uploaded = drive.CreateFile({'title': 'db'+str(int(i+40))+'.png'})\n",
        "  uploaded.SetContentFile('db'+str(int(i+40))+'.png')\n",
        "  uploaded.Upload()\n",
        "  plt.close()"
      ]
    },
    {
      "cell_type": "code",
      "execution_count": null,
      "metadata": {
        "id": "a48UpAH9OGDh"
      },
      "outputs": [],
      "source": []
    }
  ],
  "metadata": {
    "colab": {
      "provenance": []
    },
    "kernelspec": {
      "display_name": "Python 3",
      "name": "python3"
    },
    "language_info": {
      "name": "python"
    }
  },
  "nbformat": 4,
  "nbformat_minor": 0
}