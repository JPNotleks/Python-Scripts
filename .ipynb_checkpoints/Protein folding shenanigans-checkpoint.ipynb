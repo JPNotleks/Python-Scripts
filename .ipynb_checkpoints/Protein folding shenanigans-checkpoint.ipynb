{
 "cells": [
  {
   "cell_type": "code",
   "execution_count": 12,
   "metadata": {},
   "outputs": [
    {
     "name": "stdout",
     "output_type": "stream",
     "text": [
      "       Sequence  Active\n",
      "0          DKWL       0\n",
      "1          FCHN       0\n",
      "2          KDQP       0\n",
      "3          FNWI       0\n",
      "4          NKRM       0\n",
      "...         ...     ...\n",
      "111995     GSME       0\n",
      "111996     DLPT       0\n",
      "111997     SGHC       0\n",
      "111998     KIGT       0\n",
      "111999     PGPT       0\n",
      "\n",
      "[112000 rows x 2 columns]\n",
      "[['DKWL' 0]\n",
      " ['FCHN' 0]\n",
      " ['KDQP' 0]\n",
      " ...\n",
      " ['SGHC' 0]\n",
      " ['KIGT' 0]\n",
      " ['PGPT' 0]]\n"
     ]
    }
   ],
   "source": [
    "from pandas import read_csv, DataFrame\n",
    "import numpy as np\n",
    "\n",
    "test=read_csv(\"train.csv\")\n",
    "print(test)\n",
    "yeet=test.to_numpy()\n",
    "print(yeet)"
   ]
  },
  {
   "cell_type": "code",
   "execution_count": null,
   "metadata": {},
   "outputs": [],
   "source": []
  }
 ],
 "metadata": {
  "kernelspec": {
   "display_name": "Python 3",
   "language": "python",
   "name": "python3"
  },
  "language_info": {
   "codemirror_mode": {
    "name": "ipython",
    "version": 3
   },
   "file_extension": ".py",
   "mimetype": "text/x-python",
   "name": "python",
   "nbconvert_exporter": "python",
   "pygments_lexer": "ipython3",
   "version": "3.8.5"
  }
 },
 "nbformat": 4,
 "nbformat_minor": 4
}
