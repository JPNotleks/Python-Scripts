{
 "cells": [
  {
   "cell_type": "code",
   "execution_count": 93,
   "metadata": {},
   "outputs": [
    {
     "name": "stdout",
     "output_type": "stream",
     "text": [
      "[[ 0.02  0.05 -0.09 -0.43 -0.08]\n",
      " [-0.13  0.11 -0.08 -0.29 -0.03]\n",
      " [ 0.08  0.06 -0.07 -0.41 -0.03]\n",
      " ...\n",
      " [-0.27 -0.22 -0.01 -0.32 -0.05]\n",
      " [ 0.19  0.11 -0.05 -0.27 -0.04]\n",
      " [-0.09 -0.09 -0.06 -0.41 -0.06]]\n",
      "[ 1.00000000e+00  2.00000000e-02  5.00000000e-02 -9.00000000e-02\n",
      " -4.30000000e-01 -8.00000000e-02  4.00000000e-04  2.50000000e-03\n",
      "  8.10000000e-03  1.84900000e-01  6.40000000e-03  1.02020134e+00\n",
      "  1.05127110e+00  9.13931185e-01  6.50509095e-01  9.23116346e-01\n",
      "  9.99800007e-01  9.98750260e-01  9.95952733e-01  9.08965750e-01\n",
      "  9.96801706e-01]\n",
      "[2.00632594 2.00784676 2.00862224 2.00898567 2.0090987  2.00925632\n",
      " 2.00947288 2.00970491 2.0097154  2.00972836 2.00974285 2.00975957\n",
      " 2.00976287 2.00975597 2.00974834 2.00974013 2.00973164 2.0097204\n",
      " 2.00970519 2.009689   2.00967212 2.00965483 2.00963784 2.00962179\n",
      " 2.00960819 2.0095987  2.00959659 2.00961066 2.00965992 2.009715\n",
      " 2.00976322 2.00986639 2.01005719 2.01282488 2.01333687 2.01401636\n",
      " 2.01491366 2.01612297 2.01779529 2.01995976]\n",
      "[-0.00000000e+00  0.00000000e+00 -0.00000000e+00 -0.00000000e+00\n",
      "  0.00000000e+00 -0.00000000e+00 -0.00000000e+00  0.00000000e+00\n",
      "  0.00000000e+00 -0.00000000e+00  0.00000000e+00 -1.61993852e-01\n",
      " -1.76460948e+00 -2.64189877e+00 -0.00000000e+00 -0.00000000e+00\n",
      " -0.00000000e+00 -1.98414999e+00 -0.00000000e+00 -0.00000000e+00\n",
      " -1.83548756e-03]\n",
      "[-0.0, 0.0, -0.0, -0.0, 0.0, -0.0, -0.0, 0.0, 0.0, -0.0, 0.0, -0.0, -1.7639117, -2.6413235, -0.0, -0.0, -0.0, -1.983899, -0.0, -0.0, -0.0]\n"
     ]
    },
    {
     "data": {
      "image/png": "[encoded data removed]",
      "text/plain": [
       "<Figure size 432x288 with 1 Axes>"
      ]
     },
     "metadata": {
      "needs_background": "light"
     },
     "output_type": "display_data"
    }
   ],
   "source": [
    "import csv\n",
    "from sklearn import linear_model\n",
    "from sklearn.metrics import mean_squared_error\n",
    "from sklearn.model_selection import cross_val_score\n",
    "from sklearn.model_selection import KFold\n",
    "from sklearn.linear_model import Lasso\n",
    "from matplotlib import pyplot as plt\n",
    "import numpy as np\n",
    "\n",
    "A=np.zeros((0,7),dtype='float64')\n",
    "\n",
    "with open('train.csv','r') as csvfile:\n",
    "    reader=csv.reader(csvfile)\n",
    "    next(reader)\n",
    "    for row in reader:\n",
    "        A=np.append(A,np.asarray(row,dtype='float64')[np.newaxis,:],axis=0)\n",
    "\n",
    "y=A[:,1]\n",
    "iden=A[:,0]\n",
    "A=A[:,2:7]  #raw data, 5 dimensions\n",
    "print(A)\n",
    "#print(y)\n",
    "\n",
    "B=A\n",
    "B=np.append(np.ones((700,1)),B,axis=1)\n",
    "B=np.append(B,np.square(A),axis=1)\n",
    "B=np.append(B,np.exp(A),axis=1)\n",
    "B=np.append(B,np.cos(A),axis=1)    #data mapped to feature space, 25 dimensions\n",
    "#B=B[:,[9,10,11,15,17]]    #uncorrelated columns dismissed, 5 dimensions reminaing\n",
    "print(B[0,:])\n",
    "\n",
    "n=40\n",
    "Alphas=np.exp(np.linspace(-7,-2,n))\n",
    "#Alphas=[0.00001,0.00005,0.0001,0.0005,0.001,0.005,0.01,0.05,0.1]\n",
    "X=np.zeros((21,0),dtype='float64')\n",
    "V=np.zeros(n)\n",
    "\n",
    "for i in range(n):\n",
    "    model=Lasso(alpha=Alphas[i], fit_intercept=False,max_iter=100000)\n",
    "    #cv=KFold(n_splits=10)\n",
    "    model.fit(B,y)\n",
    "    \n",
    "    #print(model.coef_)\n",
    "    X=np.append(X,model.coef_[:,np.newaxis],axis=1)\n",
    "    V[i]=mean_squared_error(y[501:],np.matmul(B[501:,:],model.coef_))\n",
    "#print(X)\n",
    "plt.plot(np.transpose(X))\n",
    "print(np.sqrt(V))\n",
    "print(X[:,14])\n",
    "#-6*exp(x1)-1.5*exp(x2)-e*exp(x3)\n",
    "\n",
    "#for i in range(5):\n",
    "#    if abs(np.max(X[i,:]))<0.01:\n",
    "#        print(i)\n",
    "        \n",
    "#remaining=9,10,11,15,17\n",
    "\n",
    "SOL=[-0. ,  0.,\n",
    " -0. , -0., 0.  , -0. ,  -0. , 0.,\n",
    "  0. ,  -0.  , 0. ,-0., -1.7639117 , -2.6413235,\n",
    " -0.,  -0.,  -0., -1.983899, -0. ,      -0.,\n",
    " -0.]\n",
    "\n",
    "print(SOL)\n",
    "with open('Predictions.csv',mode='w',newline='') as predictionfile: #writing predictions\n",
    "    predictionwriter=csv.writer(predictionfile)\n",
    "    for i in range(0,21):\n",
    "        predictionwriter.writerow([X[i,14]])"
   ]
  },
  {
   "cell_type": "code",
   "execution_count": null,
   "metadata": {},
   "outputs": [],
   "source": [
    "\n"
   ]
  },
  {
   "cell_type": "code",
   "execution_count": null,
   "metadata": {},
   "outputs": [],
   "source": []
  }
 ],
 "metadata": {
  "kernelspec": {
   "display_name": "Python 3",
   "language": "python",
   "name": "python3"
  },
  "language_info": {
   "codemirror_mode": {
    "name": "ipython",
    "version": 3
   },
   "file_extension": ".py",
   "mimetype": "text/x-python",
   "name": "python",
   "nbconvert_exporter": "python",
   "pygments_lexer": "ipython3",
   "version": "3.8.5"
  }
 },
 "nbformat": 4,
 "nbformat_minor": 4
}
