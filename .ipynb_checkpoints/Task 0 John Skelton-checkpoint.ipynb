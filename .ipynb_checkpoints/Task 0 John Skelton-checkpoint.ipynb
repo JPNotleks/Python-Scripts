{
 "cells": [
  {
   "cell_type": "code",
   "execution_count": 48,
   "metadata": {},
   "outputs": [
    {
     "name": "stdout",
     "output_type": "stream",
     "text": [
      "[0.1 0.1 0.1 0.1 0.1 0.1 0.1 0.1 0.1 0.1]\n",
      "[[ -483.79749196  1288.05706466  -129.87871176 ...  -676.52396365\n",
      "   1327.22965506  -448.69544586]\n",
      " [ -316.40730486    30.83055597  -313.35672639 ...   112.33873097\n",
      "   1372.34022087  2062.56184249]\n",
      " [-2448.55899655  -561.9884085    355.09881965 ...   246.80120955\n",
      "   -562.41319652  -841.60201454]\n",
      " ...\n",
      " [  199.86464767   261.34577883  -127.9868049  ...  -517.18289177\n",
      "     79.69414067  1016.12660703]\n",
      " [ -151.6731569  -1425.19961999  1070.92211365 ... -1206.76602098\n",
      "  -1047.46487113     7.58810151]\n",
      " [  -97.08998298   780.44424995   221.08152007 ...  2531.7054924\n",
      "    -35.72203447   173.20019051]]\n",
      "Predicted y:\n",
      "[ -66.00242349  451.4065044  -461.67641706 ...  -35.13540942 -131.67918453\n",
      "  417.26915462]\n",
      "True y\n",
      "[]\n"
     ]
    }
   ],
   "source": [
    "import csv\n",
    "import numpy as np\n",
    "\n",
    "A=np.empty((0,12),dtype='float64')\n",
    "\n",
    "with open('train.csv','r') as csvfile:\n",
    "    reader=csv.reader(csvfile)\n",
    "    next(reader)\n",
    "    for row in reader:\n",
    "        A=np.append(A,np.asarray(row,dtype='float64')[np.newaxis,:],axis=0)\n",
    "\n",
    "y=A[:,1]\n",
    "A=A[:,2:]\n",
    "\n",
    "#print(np.matmul(A,1/10*np.ones((10,0))))\n",
    "\n",
    "b=np.matmul(np.linalg.pinv(A),y)\n",
    "\n",
    "#from sklearn.metrics import mean_squared_error\n",
    "#RMSE = mean_squared_error(y, y_pred)**0.5\n",
    "\n",
    "print(b)\n",
    "\n",
    "B=np.empty((0,11),dtype='float64')\n",
    "\n",
    "with open('test.csv','r') as csvfile:\n",
    "    reader=csv.reader(csvfile)\n",
    "    next(reader)\n",
    "    for row in reader:\n",
    "        B=np.append(B,np.asarray(row,dtype='float64')[np.newaxis,:],axis=0)\n",
    "\n",
    "iden=A[:,0]\n",
    "B=B[:,1:]\n",
    "        \n",
    "print(B)\n",
    "\n",
    "y_pred=np.matmul(B,b)\n",
    "print('Predicted y:')\n",
    "print(y_pred)\n",
    "print('True y')\n",
    "print(np.matmul(B,1/10*np.ones((10,0))))"
   ]
  },
  {
   "cell_type": "code",
   "execution_count": null,
   "metadata": {},
   "outputs": [],
   "source": []
  },
  {
   "cell_type": "code",
   "execution_count": null,
   "metadata": {},
   "outputs": [],
   "source": []
  }
 ],
 "metadata": {
  "kernelspec": {
   "display_name": "Python 3",
   "language": "python",
   "name": "python3"
  },
  "language_info": {
   "codemirror_mode": {
    "name": "ipython",
    "version": 3
   },
   "file_extension": ".py",
   "mimetype": "text/x-python",
   "name": "python",
   "nbconvert_exporter": "python",
   "pygments_lexer": "ipython3",
   "version": "3.8.5"
  }
 },
 "nbformat": 4,
 "nbformat_minor": 4
}
