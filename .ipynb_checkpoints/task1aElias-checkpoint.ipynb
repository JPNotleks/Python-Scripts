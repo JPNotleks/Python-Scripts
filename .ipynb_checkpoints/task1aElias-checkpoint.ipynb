{
 "cells": [
  {
   "cell_type": "code",
   "execution_count": 2,
   "metadata": {},
   "outputs": [],
   "source": [
    "# -*- coding: utf-8 -*-\n",
    "\"\"\"\n",
    "Created on Sat Mar 13 13:23:52 2021\n",
    "\n",
    "@author: Nick88stam\n",
    "\"\"\"\n",
    "\n",
    "import numpy as np\n",
    "from sklearn import linear_model\n",
    "from sklearn.model_selection import cross_val_score\n",
    "from sklearn.model_selection import RepeatedKFold\n",
    "from sklearn.linear_model import Ridge\n",
    "from matplotlib import pyplot as plt\n",
    "import csv\n",
    "\n",
    "scores = np.zeros(5)\n",
    "mean = np.zeros(5)\n",
    "l = [0.1, 1, 10, 100, 200]\n",
    "\n",
    "y  =  np.zeros(150)\n",
    "x= np.zeros((150,13))\n",
    "i=0\n",
    "\n",
    "with open('train.csv','r') as csvfile:\n",
    "    reader=csv.reader(csvfile)\n",
    "    next(reader)\n",
    "    for row in reader:\n",
    "        y[i]=row[0]\n",
    "        for j in range(0,13):\n",
    "            x[i][j]=row[j+1]\n",
    "        i=i+1\n",
    "        \n",
    "for i in range(0,5):        \n",
    "    \n",
    "    model = Ridge(alpha = l[i], fit_intercept = False)\n",
    "\n",
    "    cv = RepeatedKFold(n_splits = 10, n_repeats=1, random_state=1)\n",
    "\n",
    "    scores = cross_val_score(model, x, y, scoring= 'neg_root_mean_squared_error', cv=cv, n_jobs =-1)\n",
    "    scores = np.absolute(scores)\n",
    "    mean[i] = np.mean(scores)\n",
    "    \n",
    "with open('PredictionsElias.csv',mode ='w',newline='') as predictionfile: #writing predictions\n",
    "    predictionwriter = csv.writer(predictionfile)\n",
    "    for i in range(0,5):\n",
    "        predictionwriter.writerow([mean[i]])\n",
    "    "
   ]
  },
  {
   "cell_type": "code",
   "execution_count": null,
   "metadata": {},
   "outputs": [],
   "source": []
  }
 ],
 "metadata": {
  "anaconda-cloud": {},
  "kernelspec": {
   "display_name": "Python 3",
   "language": "python",
   "name": "python3"
  },
  "language_info": {
   "codemirror_mode": {
    "name": "ipython",
    "version": 3
   },
   "file_extension": ".py",
   "mimetype": "text/x-python",
   "name": "python",
   "nbconvert_exporter": "python",
   "pygments_lexer": "ipython3",
   "version": "3.8.5"
  }
 },
 "nbformat": 4,
 "nbformat_minor": 4
}
