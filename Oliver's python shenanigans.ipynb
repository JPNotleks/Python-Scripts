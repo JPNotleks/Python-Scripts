{
 "cells": [
  {
   "cell_type": "code",
   "execution_count": 10,
   "metadata": {},
   "outputs": [
    {
     "data": {
      "text/plain": [
       "5"
      ]
     },
     "execution_count": 10,
     "metadata": {},
     "output_type": "execute_result"
    }
   ],
   "source": [
    "def odd(l,r):\n",
    "    return [l+l%2+2*i for i in range(0,(r-l+2)//2)]\n",
    "\n",
    "def primex(l,r):\n",
    "    x=[i for i in range(l,r+1)]\n",
    "    for j in range(2,r):\n",
    "        x=[y for y in x if y%j!=0 or y==j]\n",
    "        print(x)\n",
    "    return x\n",
    "\n",
    "def prime(lower, upper):\n",
    "    primes = set()\n",
    "    for john in range(lower, upper + 1):\n",
    "        for i in range(2, john):\n",
    "            if john % i == 0:\n",
    "                break\n",
    "            else:\n",
    "                primes.add(john)\n",
    "    return(primes)\n",
    "\n",
    "def split(A):\n",
    "    s=0\n",
    "    for x in A:\n",
    "        s+=x\n",
    "    t=0; i=0\n",
    "    while t<s/2:\n",
    "        t+=A[i]\n",
    "        i+=1\n",
    "    return i\n",
    "\n",
    "split([9,8,7,6,6,7,8,9])"
   ]
  },
  {
   "cell_type": "code",
   "execution_count": null,
   "metadata": {},
   "outputs": [],
   "source": []
  }
 ],
 "metadata": {
  "kernelspec": {
   "display_name": "Python 3",
   "language": "python",
   "name": "python3"
  },
  "language_info": {
   "codemirror_mode": {
    "name": "ipython",
    "version": 3
   },
   "file_extension": ".py",
   "mimetype": "text/x-python",
   "name": "python",
   "nbconvert_exporter": "python",
   "pygments_lexer": "ipython3",
   "version": "3.8.5"
  }
 },
 "nbformat": 4,
 "nbformat_minor": 4
}
