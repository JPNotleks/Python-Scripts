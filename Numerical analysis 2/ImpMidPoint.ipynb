{
  "cells": [
    {
      "cell_type": "code",
      "metadata": {},
      "source": [
        "import numpy as np\n",
        "from numpy.linalg import inv\n",
        "\n",
        "def ImpMidPoint(y0,T,h):\n",
        "    \n",
        "     # Initialize variables\n",
        "    N = int(np.ceil((T[1]-T[0])/h))# number of steps\n",
        "    h = (T[1]-T[0])/N # adjust step size to fit interval length\n",
        "    d = len(y0) # dimension of solution\n",
        "    t = #### time grid\n",
        "    y = np.zeros((d,N+1)) # initialise solution\n",
        "    y[:,0] = #### set initial value\n",
        "    \n",
        "    # Define matrices needed for time stepping\n",
        "    Jinv = ####\n",
        "    A = ####\n",
        "    \n",
        "    # Compute solution\n",
        "    for j in range(0,N):\n",
        "        y[:,j+1] = ####\n",
        "      \n",
        "    return np.array([t,y])"
      ],
      "outputs": [],
      "execution_count": null
    }
  ],
  "metadata": {
    "anaconda-cloud": {},
    "kernelspec": {
      "display_name": "Python 3",
      "language": "python",
      "name": "python3"
    },
    "language_info": {
      "codemirror_mode": {
        "name": "ipython",
        "version": 3
      },
      "file_extension": ".py",
      "mimetype": "text/x-python",
      "name": "python",
      "nbconvert_exporter": "python",
      "pygments_lexer": "ipython3",
      "version": "3.6.1"
    }
  },
  "nbformat": 4,
  "nbformat_minor": 4
}