{
  "cells": [
    {
      "cell_type": "code",
      "metadata": {},
      "source": [
        "from symplectic_euler import symplectic_euler\n",
        "import numpy as np\n",
        "import matplotlib.pyplot as plt\n",
        "\n",
        "# Start and end times\n",
        "T = ####\n",
        "\n",
        "# Initial Values\n",
        "y0_A = ####\n",
        "y0_B = ####\n",
        "y0_C = ####\n",
        "\n",
        "# Call the improved Euler method function here\n",
        "[t,u_A] = ####\n",
        "[t,u_B] = ####\n",
        "[t,u_C] = ####\n",
        "\n",
        "\n",
        "# Plot the triangles\n",
        "plt.figure()\n",
        "triangle_0_x = [u_A[0,0], u_B[0,0], u_C[0,0]]\n",
        "triangle_0_y = [u_A[1,0], u_B[1,0], u_C[1,0]]\n",
        "triangle_T_x = ####\n",
        "triangle_T_y = ####\n",
        "plt.scatter(triangle_0_x, triangle_0_y, c = 'red')\n",
        "#### Plot the t=T triangle too\n",
        "\n",
        "\n",
        "# Compute the triangle areas at times t=0 and t=T\n",
        "A_0 = ####\n",
        "A_T = ####\n",
        "\n",
        "\n",
        "print('Area difference = ',np.abs(A_T-A_0))\n",
        "\n",
        "plt.savefig(\"prb1g_area.pdf\")"
      ],
      "outputs": [],
      "execution_count": null
    }
  ],
  "metadata": {
    "anaconda-cloud": {},
    "kernelspec": {
      "display_name": "Python 3",
      "language": "python",
      "name": "python3"
    },
    "language_info": {
      "codemirror_mode": {
        "name": "ipython",
        "version": 3
      },
      "file_extension": ".py",
      "mimetype": "text/x-python",
      "name": "python",
      "nbconvert_exporter": "python",
      "pygments_lexer": "ipython3",
      "version": "3.6.1"
    }
  },
  "nbformat": 4,
  "nbformat_minor": 4
}