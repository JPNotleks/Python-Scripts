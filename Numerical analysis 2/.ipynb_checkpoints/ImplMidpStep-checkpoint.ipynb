{
 "cells": [
  {
   "cell_type": "code",
   "execution_count": null,
   "metadata": {},
   "outputs": [],
   "source": [
    "import numpy as np\n",
    "\n",
    "def ImplMidpStep(A, Y0, h):\n",
    "    # step of implicit midpoint rule\n",
    "    # Input:\n",
    "    #\tA - matrix\n",
    "    #\tY0 - initial value\n",
    "    #\th - step size\n",
    "    \n",
    "    Y = np.linalg.inv(np.identity(np.shape(A)[0])-h/2*A)*(Y0+h/2*A*Y0)\n",
    "    \n",
    "    return Y"
   ]
  }
 ],
 "metadata": {
  "anaconda-cloud": {},
  "kernelspec": {
   "display_name": "Python 3",
   "language": "python",
   "name": "python3"
  },
  "language_info": {
   "codemirror_mode": {
    "name": "ipython",
    "version": 3
   },
   "file_extension": ".py",
   "mimetype": "text/x-python",
   "name": "python",
   "nbconvert_exporter": "python",
   "pygments_lexer": "ipython3",
   "version": "3.8.5"
  }
 },
 "nbformat": 4,
 "nbformat_minor": 4
}
