{
 "cells": [
  {
   "cell_type": "code",
   "execution_count": 26,
   "metadata": {},
   "outputs": [
    {
     "name": "stdout",
     "output_type": "stream",
     "text": [
      "[[ 0.  1.]\n",
      " [-1.  0.]]\n",
      "[[ 0.70710678  0.70710678]\n",
      " [-0.70710678  0.70710678]]\n",
      "[[ 1.00000000e+00 -2.23711432e-17]\n",
      " [-2.23711432e-17  1.00000000e+00]]\n",
      "[[ 1.00000000e+00 -2.23711432e-17]\n",
      " [-2.23711432e-17  1.00000000e+00]]\n",
      "[[ 1.00000000e+00 -2.23711432e-17]\n",
      " [-2.23711432e-17  1.00000000e+00]]\n",
      "[[ 1.00000000e+00 -2.23711432e-17]\n",
      " [-2.23711432e-17  1.00000000e+00]]\n",
      "[[ 1.00000000e+00 -2.23711432e-17]\n",
      " [-2.23711432e-17  1.00000000e+00]]\n",
      "[[ 1.00000000e+00 -2.23711432e-17]\n",
      " [-2.23711432e-17  1.00000000e+00]]\n",
      "[[ 1.00000000e+00 -2.23711432e-17]\n",
      " [-2.23711432e-17  1.00000000e+00]]\n",
      "[[ 1.00000000e+00 -2.23711432e-17]\n",
      " [-2.23711432e-17  1.00000000e+00]]\n",
      "[[ 1.00000000e+00 -2.23711432e-17]\n",
      " [-2.23711432e-17  1.00000000e+00]]\n",
      "[[ 1.00000000e+00 -2.23711432e-17]\n",
      " [-2.23711432e-17  1.00000000e+00]]\n",
      "[[ 1.00000000e+00 -2.23711432e-17]\n",
      " [-2.23711432e-17  1.00000000e+00]]\n",
      "[[ 1.00000000e+00 -2.23711432e-17]\n",
      " [-2.23711432e-17  1.00000000e+00]]\n",
      "[[ 1.00000000e+00 -2.23711432e-17]\n",
      " [-2.23711432e-17  1.00000000e+00]]\n",
      "[[ 1.00000000e+00 -2.23711432e-17]\n",
      " [-2.23711432e-17  1.00000000e+00]]\n",
      "[[ 1.00000000e+00 -2.23711432e-17]\n",
      " [-2.23711432e-17  1.00000000e+00]]\n",
      "[[ 1.00000000e+00 -2.23711432e-17]\n",
      " [-2.23711432e-17  1.00000000e+00]]\n",
      "[[ 1.00000000e+00 -2.23711432e-17]\n",
      " [-2.23711432e-17  1.00000000e+00]]\n",
      "[[ 1.00000000e+00 -2.23711432e-17]\n",
      " [-2.23711432e-17  1.00000000e+00]]\n",
      "[[ 1.00000000e+00 -2.23711432e-17]\n",
      " [-2.23711432e-17  1.00000000e+00]]\n",
      "[[ 1.00000000e+00 -2.23711432e-17]\n",
      " [-2.23711432e-17  1.00000000e+00]]\n"
     ]
    },
    {
     "data": {
      "text/plain": [
       "<matplotlib.legend.Legend at 0x29c4538ffd0>"
      ]
     },
     "execution_count": 26,
     "metadata": {},
     "output_type": "execute_result"
    },
    {
     "data": {
      "image/png": "[encoded data removed]",
      "text/plain": [
       "<Figure size 432x288 with 1 Axes>"
      ]
     },
     "metadata": {
      "needs_background": "light"
     },
     "output_type": "display_data"
    }
   ],
   "source": [
    "import numpy as np\n",
    "import matplotlib.pyplot as plt\n",
    "\n",
    "def ExplEulStep(A, Y0, h):\n",
    "    # explicit Euler step\n",
    "    # Input:\n",
    "    #\tA - matrix\n",
    "    #\tY0 - initial value\n",
    "    #\th - step size\n",
    "    \n",
    "    Y = Y0+h*np.matmul(A,Y0)\n",
    "    \n",
    "    return Y\n",
    "\n",
    "def ImplEulStep(A, Y0, h):\n",
    "    # implicit Euler step\n",
    "    # Input:\n",
    "    #\tA - matrix\n",
    "    #\tY0 - initial value\n",
    "    #\th - step size\n",
    "    \n",
    "    Y = np.linalg.solve(np.identity(2)-h*A,Y0)\n",
    "    \n",
    "    return Y\n",
    "\n",
    "def ImplMidpStep(A, Y0, h):\n",
    "    # step of implicit midpoint rule\n",
    "    # Input:\n",
    "    #\tA - matrix\n",
    "    #\tY0 - initial value\n",
    "    #\th - step size\n",
    "    \n",
    "    Y = np.linalg.solve(np.identity(2)-h/2*A,Y0+h/2*A*Y0)\n",
    "    \n",
    "    return Y\n",
    "\n",
    "# set the matrix A, the intital condition Y(0) and step size h\n",
    "A = np.array([[0,1],[-1,0]],dtype='double')\n",
    "print(A)\n",
    "Y0 = 1/np.sqrt(2)*np.array([[1,1],[-1,1]],dtype='double')\n",
    "print(Y0)\n",
    "h = 1/20\n",
    "\n",
    "# starting values for the iteration\n",
    "Yexpleul = Y0\n",
    "Yimpleul = Y0\n",
    "Yimplmidp = Y0\n",
    "\n",
    "# allocate memory for results (||Y_k'Y_k-I||_F)\n",
    "normexpleul = np.zeros([20, 1]);\n",
    "normimpleul = np.zeros([20, 1]);\n",
    "normimplmidp = np.zeros([20, 1]);\n",
    "\n",
    "for k in range(0,20):\n",
    "    \n",
    "    # compute the steps using the explicit, implicit Euler and implicit\n",
    "    # midpoint rule\n",
    "    Yexpleul = ExplEulStep(A, Yexpleul, h)\n",
    "    Yimpleul = ImplEulStep(A, Yimpleul, h)\n",
    "    Yimplmidp = ImplMidpStep(A, Yimplmidp, h)\n",
    "\t\n",
    "    # compute the norms\n",
    "    print(np.matmul(np.transpose(Y0),Y0))\n",
    "    normexpleul[k] = np.linalg.norm(np.matmul(Yexpleul.T,Yexpleul)-np.identity(2),'fro')\n",
    "    normimpleul[k] = np.linalg.norm(np.matmul(Yimpleul.T,Yimpleul)-np.identity(2),'fro')\n",
    "    normimplmidp[k] = np.linalg.norm(np.matmul(Yimplmidp.T,Yimplmidp)-np.identity(2),'fro')\n",
    "# plot the results\n",
    "plt.semilogy(range(1,21),normexpleul,label=\"Explicit Euler\")\n",
    "plt.semilogy(range(1,21),normimpleul,'--',label=\"Implicit Euler\")\n",
    "plt.semilogy(range(1,21),normimplmidp,label=\"Implicit Midpoint\")\n",
    "plt.xlabel('Iteration')\n",
    "plt.legend(loc=\"right\")"
   ]
  },
  {
   "cell_type": "code",
   "execution_count": null,
   "metadata": {},
   "outputs": [],
   "source": []
  }
 ],
 "metadata": {
  "anaconda-cloud": {},
  "kernelspec": {
   "display_name": "Python 3",
   "language": "python",
   "name": "python3"
  },
  "language_info": {
   "codemirror_mode": {
    "name": "ipython",
    "version": 3
   },
   "file_extension": ".py",
   "mimetype": "text/x-python",
   "name": "python",
   "nbconvert_exporter": "python",
   "pygments_lexer": "ipython3",
   "version": "3.8.5"
  }
 },
 "nbformat": 4,
 "nbformat_minor": 4
}
