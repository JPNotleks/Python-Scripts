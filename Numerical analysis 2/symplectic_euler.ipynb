{
 "cells": [
  {
   "cell_type": "code",
   "execution_count": 2,
   "metadata": {},
   "outputs": [],
   "source": [
    "import numpy as np\n",
    "\n",
    "\n",
    "\n",
    "def symplectic_euler(y0,T,h):\n",
    "    # Initialize variables\n",
    "    N = int(np.ceil(T[1]-T[0])/h)# number of steps\n",
    "    h = (T[1]-T[0])/N # step size \n",
    "    d = len(y0) # dimension of solution\n",
    "    t = np.linspace(T[0],T[1],N+1) # time grid\n",
    "    y = np.zeros((d,N+1)) # solution\n",
    "    y[:,0] = y0 # set initial value\n",
    "    \n",
    "    A=np.linalg.inv([[1,1+h],[0,1]])*np.array([[1,0],[h,1]])\n",
    "    \n",
    "    for j in range(0,N):\n",
    "        for i in range(0,d):\n",
    "            y[i,j+1] = np.matmul(A,y[i,j])\n",
    "         \n",
    "    return np.array([t,y])\n",
    "\n",
    "\n",
    "\n",
    "def symplectic_euler_step(y0,t0,h):\n",
    "      \n",
    "    # = ####\n",
    "    y1 = 1###\n",
    "    \n",
    "    return y1\n"
   ]
  },
  {
   "cell_type": "code",
   "execution_count": null,
   "metadata": {},
   "outputs": [],
   "source": []
  }
 ],
 "metadata": {
  "anaconda-cloud": {},
  "kernelspec": {
   "display_name": "Python 3",
   "language": "python",
   "name": "python3"
  },
  "language_info": {
   "codemirror_mode": {
    "name": "ipython",
    "version": 3
   },
   "file_extension": ".py",
   "mimetype": "text/x-python",
   "name": "python",
   "nbconvert_exporter": "python",
   "pygments_lexer": "ipython3",
   "version": "3.8.5"
  }
 },
 "nbformat": 4,
 "nbformat_minor": 4
}
