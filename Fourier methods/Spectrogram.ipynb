{
 "cells": [
  {
   "cell_type": "code",
   "execution_count": 38,
   "metadata": {},
   "outputs": [
    {
     "data": {
      "image/png": "[encoded data removed]",
      "text/plain": [
       "<Figure size 432x288 with 1 Axes>"
      ]
     },
     "metadata": {
      "needs_background": "light"
     },
     "output_type": "display_data"
    },
    {
     "data": {
      "image/png": "[encoded data removed]",
      "text/plain": [
       "<Figure size 288x288 with 1 Axes>"
      ]
     },
     "metadata": {
      "needs_background": "light"
     },
     "output_type": "display_data"
    },
    {
     "data": {
      "image/png": "[encoded data removed]",
      "text/plain": [
       "<Figure size 288x288 with 1 Axes>"
      ]
     },
     "metadata": {
      "needs_background": "light"
     },
     "output_type": "display_data"
    }
   ],
   "source": [
    "#Implements a spectrogram from scratch and tests it on a compactly supported sinosoid signal.\n",
    "\n",
    "import numpy as np\n",
    "import matplotlib.pyplot as plt\n",
    "from mpl_toolkits.mplot3d.axes3d import Axes3D\n",
    "\n",
    "x=np.ones((1,256))\n",
    "#y=np.fft.fft(x)\n",
    "x=np.append(x,np.zeros((1,256)))\n",
    "x=np.append(np.zeros((1,512)),x)\n",
    "\n",
    "#y=np.append(y,np.zeros((1,256)))\n",
    "#y=np.append(np.zeros((1,512)),y)\n",
    "\n",
    "#y=np.exp(-np.pi*1j*np.linspace(8,-8,4096))*np.sin(np.pi*np.linspace(10,-10,4096))/(np.pi*np.linspace(10,-10,4096))\n",
    "#plt.plot(abs(y))\n",
    "\n",
    "#print(abs(y))\n",
    "#plt.plot(abs(y))\n",
    "\n",
    "win=np.exp(-np.pi*np.square(np.linspace(-10,10,256)))\n",
    "\n",
    "#plt.specgram(x,mode='magnitude',scale='linear')\n",
    "\n",
    "fig1=plt.subplots(1,1)\n",
    "\n",
    "\n",
    "B=np.zeros((256,1024-256),dtype='complex')\n",
    "\n",
    "for i in range(1024-256):\n",
    "    b=np.fft.fft(x[i:i+256]*win)\n",
    "    #d=np.fft.fft(y[i:i+256]*win)\n",
    "    B[:,i]=b\n",
    "    #D[:,i]=d\n",
    "\n",
    "A=B[128:256,:]\n",
    "B[128:256,:]=B[0:128,:]\n",
    "B[0:128,:]=np.flip(A,0)\n",
    "B=np.append(B,np.zeros((256+128,1024-256)),0)\n",
    "B=np.append(np.zeros((256+128,1024-256)),B,0)\n",
    "B=np.append(np.zeros((1024,128)),B,1)\n",
    "B=np.append(B,np.zeros((1024,128)),1)\n",
    "\n",
    "D=np.copy(B)\n",
    "\n",
    "#E=D[128:256,:]\n",
    "#D[128:256,:]=D[0:128,:]\n",
    "#D[0:128,:]=np.flip(E,0)\n",
    "#plt.clf()\n",
    "#B=A[0]\n",
    "#print(np.shape(B))\n",
    "#C=A[1]\n",
    "\n",
    "\n",
    "p=np.linspace(-4,4,1024)\n",
    "\n",
    "D=np.transpose(D)\n",
    "D=np.flip(D,0)\n",
    "\n",
    "#print(abs(B))\n",
    "plt.matshow(np.abs(B))\n",
    "plt.xticks([0,256,512,512+256,1024],['-2','-1','0','1','2'])\n",
    "plt.yticks([0,256,512,512+256,1024],['-2','-1','0','1','2'])\n",
    "\n",
    "plt.matshow(np.abs(D))\n",
    "plt.xticks([0,256,512,512+256,1024],['-2','-1','0','1','2'])\n",
    "plt.yticks([0,256,512,512+256,1024],['-2','-1','0','1','2'])\n",
    "\n",
    "plt.show()"
   ]
  },
  {
   "cell_type": "code",
   "execution_count": null,
   "metadata": {},
   "outputs": [],
   "source": []
  }
 ],
 "metadata": {
  "kernelspec": {
   "display_name": "Python 3",
   "language": "python",
   "name": "python3"
  },
  "language_info": {
   "codemirror_mode": {
    "name": "ipython",
    "version": 3
   },
   "file_extension": ".py",
   "mimetype": "text/x-python",
   "name": "python",
   "nbconvert_exporter": "python",
   "pygments_lexer": "ipython3",
   "version": "3.8.5"
  }
 },
 "nbformat": 4,
 "nbformat_minor": 4
}
